{
 "cells": [
  {
   "cell_type": "code",
   "execution_count": 1,
   "metadata": {},
   "outputs": [],
   "source": [
    "import numpy as np\n",
    "import pandas as pd\n",
    "from collections import defaultdict\n",
    "import matplotlib.pyplot as plt\n",
    "from simulator_wrapper import run_simulator_day"
   ]
  },
  {
   "cell_type": "code",
   "execution_count": 2,
   "metadata": {},
   "outputs": [],
   "source": [
    "from reinforcement_learning.environment import Environment, dumb_policy\n",
    "from reinforcement_learning.policy import DiscreteRandomPolicy, TransformDiscreteActions, \\\n",
    "    ContinuousRandomPolicy, TransformContinuousActions\n",
    "from utils import extract_patient_meal_times, extract_patient_meal_carbs\n",
    "NO_ACTION = np.zeros((2,3))\n",
    "df = pd.read_csv('subject_profiles.csv')\n",
    "\n",
    "def plot_simulator(day:int=0, BM=NO_ACTION):\n",
    "    patient_data = df.iloc[day]\n",
    "    meal_times = extract_patient_meal_times(patient_data)\n",
    "    meal_carbs = extract_patient_meal_carbs(patient_data)\n",
    "    assert len(meal_carbs) == len(meal_times), \"Number of carb intakes and number of meals must be identical.\"\n",
    "    time, glucose, score = run_simulator_day(day, BM)\n",
    "    plt.plot(time, glucose, '--k')\n",
    "    plt.vlines(meal_times, 0, 1000, 'r')\n",
    "    plt.vlines(meal_times, 0, meal_carbs, 'k')\n",
    "    plt.vlines(BM[0], 0, 1000, 'b')\n",
    "    plt.hlines([70, 180], 0, 1440, 'g', alpha=0.5)\n",
    "    plt.xlim(0, 1440)\n",
    "    plt.ylim(0, 1000)\n",
    "    print(r'With score: %f3'%(score))"
   ]
  },
  {
   "cell_type": "markdown",
   "metadata": {},
   "source": [
    "## Horrible day"
   ]
  },
  {
   "cell_type": "code",
   "execution_count": 3,
   "metadata": {
    "scrolled": true
   },
   "outputs": [
    {
     "name": "stdout",
     "output_type": "stream",
     "text": [
      "With score: 0.0000003\n"
     ]
    },
    {
     "data": {
      "image/png": "[encoded data removed]",
      "text/plain": [
       "<Figure size 432x288 with 1 Axes>"
      ]
     },
     "metadata": {
      "needs_background": "light"
     },
     "output_type": "display_data"
    }
   ],
   "source": [
    "plot_simulator(day=0, BM=NO_ACTION)"
   ]
  },
  {
   "cell_type": "code",
   "execution_count": 4,
   "metadata": {},
   "outputs": [
    {
     "data": {
      "text/plain": [
       "defaultdict(list,\n",
       "            {'3': [0,\n",
       "              1,\n",
       "              2,\n",
       "              3,\n",
       "              4,\n",
       "              5,\n",
       "              7,\n",
       "              8,\n",
       "              10,\n",
       "              11,\n",
       "              13,\n",
       "              14,\n",
       "              16,\n",
       "              19,\n",
       "              20,\n",
       "              21,\n",
       "              23,\n",
       "              24,\n",
       "              25,\n",
       "              26,\n",
       "              27,\n",
       "              28,\n",
       "              29,\n",
       "              30,\n",
       "              31,\n",
       "              32,\n",
       "              33,\n",
       "              34,\n",
       "              35,\n",
       "              37,\n",
       "              38,\n",
       "              39],\n",
       "             '4': [6, 9, 12, 17, 18, 22, 36],\n",
       "             '5': [15]})"
      ]
     },
     "execution_count": 4,
     "metadata": {},
     "output_type": "execute_result"
    }
   ],
   "source": [
    "num_meals_dict = defaultdict(list)\n",
    "for day in range(40): \n",
    "    num_meals = len(extract_patient_meal_times(df.iloc[day]))\n",
    "    num_meals_dict[str(num_meals)].append(day)\n",
    "num_meals_dict"
   ]
  },
  {
   "cell_type": "markdown",
   "metadata": {},
   "source": [
    "## Example day"
   ]
  },
  {
   "cell_type": "code",
   "execution_count": 5,
   "metadata": {
    "scrolled": true
   },
   "outputs": [
    {
     "name": "stdout",
     "output_type": "stream",
     "text": [
      "With score: 43.6111113\n"
     ]
    },
    {
     "data": {
      "text/plain": [
       "day_id                         1.00\n",
       "start_sg                      78.00\n",
       "daily_meal_count               3.00\n",
       "daily_bolus_count_allowed      4.00\n",
       "min_daily_bolus_allowed       13.04\n",
       "max_daily_bolus_allowed       19.56\n",
       "meal_1_time                  120.00\n",
       "meal_1_carb                   44.00\n",
       "meal_2_time                  480.00\n",
       "meal_2_carb                   15.00\n",
       "meal_3_time                  975.00\n",
       "meal_3_carb                   58.00\n",
       "meal_4_time                     NaN\n",
       "meal_4_carb                     NaN\n",
       "meal_5_time                     NaN\n",
       "meal_5_carb                     NaN\n",
       "Name: 1, dtype: float64"
      ]
     },
     "execution_count": 5,
     "metadata": {},
     "output_type": "execute_result"
    },
    {
     "data": {
      "image/png": "[encoded data removed]",
      "text/plain": [
       "<Figure size 432x288 with 1 Axes>"
      ]
     },
     "metadata": {
      "needs_background": "light"
     },
     "output_type": "display_data"
    }
   ],
   "source": [
    "bm_example = np.array(\n",
    "    [extract_patient_meal_times(df.iloc[1]), #time\n",
    "    [ 12/3, 12/3, 12/3]]\n",
    ") #bolus amount\n",
    "plot_simulator(day = 1, BM=bm_example)\n",
    "df.iloc[1]"
   ]
  },
  {
   "cell_type": "markdown",
   "metadata": {},
   "source": [
    "## Example day with different dose"
   ]
  },
  {
   "cell_type": "code",
   "execution_count": 6,
   "metadata": {
    "scrolled": false
   },
   "outputs": [
    {
     "name": "stdout",
     "output_type": "stream",
     "text": [
      "With score: 34.3750003\n"
     ]
    },
    {
     "data": {
      "image/png": "[encoded data removed]",
      "text/plain": [
       "<Figure size 432x288 with 1 Axes>"
      ]
     },
     "metadata": {
      "needs_background": "light"
     },
     "output_type": "display_data"
    }
   ],
   "source": [
    "patient_data = df.iloc[1]\n",
    "env = Environment(patient_data)\n",
    "dumb_dosing_actions = dumb_policy(env)\n",
    "dumb_BM = np.array([env.time_meals, dumb_dosing_actions])\n",
    "plot_simulator(1, dumb_BM)"
   ]
  },
  {
   "cell_type": "markdown",
   "metadata": {},
   "source": [
    "### Extract episode information with `get_trajectory`"
   ]
  },
  {
   "cell_type": "code",
   "execution_count": 7,
   "metadata": {},
   "outputs": [
    {
     "name": "stdout",
     "output_type": "stream",
     "text": [
      "Glucose levels (states): [ 78.      106.36366 138.38786  40.     ]\n",
      "Insulin dose (ay from action): [6.52 6.52 6.52]\n",
      "Intermidiate rewards: [ 180.  360. -401.  344.]\n",
      "Next Glucose levels (next states): [106.36366 138.38786  40.      104.27364]\n",
      "Interval lengths (extra info): [120 360 495 464]\n",
      "Carb intakes (extra info): [44. 15. 58.  0.]\n",
      "Simulator score for the episode: 34.37500000000001\n"
     ]
    }
   ],
   "source": [
    "states, next_states, state_extra, rewards, done, glucose, score = env.simulate_day(dumb_BM)\n",
    "print(r\"Glucose levels (states): {}\".format(states))\n",
    "print(r\"Insulin dose (ay from action): {}\".format(dumb_BM[1]))\n",
    "print(r\"Intermidiate rewards: {}\".format(rewards))\n",
    "print(r\"Next Glucose levels (next states): {}\".format(next_states))\n",
    "print(r\"Interval lengths (extra info): {}\".format(state_extra['interval_size']))\n",
    "print(r\"Carb intakes (extra info): {}\".format(state_extra['carbs']))\n",
    "print(r\"Simulator score for the episode: {}\".format(score))"
   ]
  },
  {
   "cell_type": "markdown",
   "metadata": {},
   "source": [
    "## How well does the dumb policy performe"
   ]
  },
  {
   "cell_type": "code",
   "execution_count": 8,
   "metadata": {},
   "outputs": [
    {
     "name": "stdout",
     "output_type": "stream",
     "text": [
      "0 -23.819444444444446\n",
      "1 34.37500000000001\n",
      "2 -28.402777777777782\n",
      "3 -58.33333333333333\n",
      "4 -70.20833333333333\n",
      "5 -25.625\n",
      "6 -97.08333333333333\n",
      "7 81.80555555555556\n",
      "8 42.56944444444444\n",
      "9 -11.18055555555555\n",
      "10 -3.125\n",
      "11 10.763888888888886\n",
      "12 86.18055555555556\n",
      "13 41.111111111111114\n",
      "14 -89.375\n",
      "15 -28.68055555555555\n",
      "16 -20.625\n",
      "17 -75.06944444444446\n",
      "18 54.93055555555556\n",
      "19 47.43055555555556\n",
      "20 62.43055555555556\n",
      "21 -1.1805555555555571\n",
      "22 -32.083333333333336\n",
      "23 -11.527777777777771\n",
      "24 -55.90277777777778\n",
      "25 -11.666666666666671\n",
      "26 -46.597222222222214\n",
      "27 -39.513888888888886\n",
      "28 -49.51388888888889\n",
      "29 55.97222222222222\n",
      "30 13.75\n",
      "31 -58.888888888888886\n",
      "32 -74.58333333333334\n",
      "33 -71.31944444444444\n",
      "34 58.263888888888886\n",
      "35 63.333333333333336\n",
      "36 -32.5\n",
      "37 21.180555555555557\n",
      "38 25.486111111111114\n",
      "39 33.75\n"
     ]
    }
   ],
   "source": [
    "for i in range(0, 40): \n",
    "    patient_data = df.iloc[i]\n",
    "    env = Environment(patient_data)\n",
    "    dumb_dosing_actions = dumb_policy(env)\n",
    "    dumb_BM = np.array([env.time_meals, dumb_dosing_actions])\n",
    "    _, _, _, _, _, glucose, score = env.simulate_day(dumb_BM)\n",
    "    print(i, score)"
   ]
  },
  {
   "cell_type": "markdown",
   "metadata": {},
   "source": [
    "Best of all"
   ]
  },
  {
   "cell_type": "code",
   "execution_count": 9,
   "metadata": {},
   "outputs": [
    {
     "name": "stdout",
     "output_type": "stream",
     "text": [
      "With score: 86.1805563\n"
     ]
    },
    {
     "data": {
      "image/png": "[encoded data removed]",
      "text/plain": [
       "<Figure size 432x288 with 1 Axes>"
      ]
     },
     "metadata": {
      "needs_background": "light"
     },
     "output_type": "display_data"
    }
   ],
   "source": [
    "i = 12\n",
    "patient_data = df.iloc[i]\n",
    "env = Environment(patient_data)\n",
    "dumb_dosing_actions = dumb_policy(env)\n",
    "dumb_BM = np.array([env.time_meals, dumb_dosing_actions])\n",
    "plot_simulator(day=i, BM=dumb_BM)"
   ]
  },
  {
   "cell_type": "markdown",
   "metadata": {},
   "source": [
    "## Performance of a discrete random policy"
   ]
  },
  {
   "cell_type": "code",
   "execution_count": 10,
   "metadata": {
    "scrolled": true
   },
   "outputs": [
    {
     "name": "stdout",
     "output_type": "stream",
     "text": [
      "With score: 13.8194443\n"
     ]
    },
    {
     "data": {
      "image/png": "[encoded data removed]",
      "text/plain": [
       "<Figure size 432x288 with 1 Axes>"
      ]
     },
     "metadata": {
      "needs_background": "light"
     },
     "output_type": "display_data"
    }
   ],
   "source": [
    "random_policy = DiscreteRandomPolicy()\n",
    "i = 12\n",
    "patient_data = df.iloc[i]\n",
    "env = Environment(patient_data)\n",
    "raw_actions = random_policy.act_episode(num_steps=env.num_meals + 1)\n",
    "random_BM = TransformDiscreteActions().forward(raw_actions=raw_actions, \n",
    "                                               time_stamps=env.time_stamps, \n",
    "                                               dose_range=env.dose_range)\n",
    "plot_simulator(day=i, BM=random_BM)"
   ]
  },
  {
   "cell_type": "markdown",
   "metadata": {},
   "source": [
    "## Performance of a continuous random policy"
   ]
  },
  {
   "cell_type": "code",
   "execution_count": 11,
   "metadata": {
    "pycharm": {
     "name": "#%%\n"
    }
   },
   "outputs": [
    {
     "name": "stdout",
     "output_type": "stream",
     "text": [
      "With score: 30.7638893\n"
     ]
    },
    {
     "data": {
      "image/png": "[encoded data removed]",
      "text/plain": [
       "<Figure size 432x288 with 1 Axes>"
      ]
     },
     "metadata": {
      "needs_background": "light"
     },
     "output_type": "display_data"
    }
   ],
   "source": [
    "random_policy = ContinuousRandomPolicy()\n",
    "i = 11\n",
    "patient_data = df.iloc[i]\n",
    "env = Environment(patient_data)\n",
    "raw_actions = random_policy.act_episode(num_steps=env.num_meals + 1)\n",
    "raw_actions[0, :] = np.ones_like(raw_actions[0, :])\n",
    "random_BM = TransformContinuousActions().forward(raw_actions=raw_actions, \n",
    "                                               time_stamps=env.time_stamps, \n",
    "                                               dose_range=env.dose_range)\n",
    "plot_simulator(day=i, BM=random_BM)\n",
    "\n"
   ]
  }
 ],
 "metadata": {
  "kernelspec": {
   "display_name": "GlucoseControl_env",
   "language": "python",
   "name": "glucosecontrol_env"
  },
  "language_info": {
   "codemirror_mode": {
    "name": "ipython",
    "version": 3
   },
   "file_extension": ".py",
   "mimetype": "text/x-python",
   "name": "python",
   "nbconvert_exporter": "python",
   "pygments_lexer": "ipython3",
   "version": "3.7.3"
  },
  "pycharm": {
   "stem_cell": {
    "cell_type": "raw",
    "metadata": {
     "collapsed": false
    },
    "source": []
   }
  }
 },
 "nbformat": 4,
 "nbformat_minor": 4
}
