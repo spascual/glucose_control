{
 "cells": [
  {
   "cell_type": "code",
   "execution_count": 1,
   "metadata": {},
   "outputs": [
    {
     "ename": "ModuleNotFoundError",
     "evalue": "No module named 'reinforcement_learning'",
     "output_type": "error",
     "traceback": [
      "\u001b[0;31m---------------------------------------------------------------------------\u001b[0m",
      "\u001b[0;31mModuleNotFoundError\u001b[0m                       Traceback (most recent call last)",
      "\u001b[0;32m<ipython-input-1-523084d914fb>\u001b[0m in \u001b[0;36m<module>\u001b[0;34m\u001b[0m\n\u001b[1;32m      3\u001b[0m \u001b[0;32mimport\u001b[0m \u001b[0mmatplotlib\u001b[0m\u001b[0;34m.\u001b[0m\u001b[0mpyplot\u001b[0m \u001b[0;32mas\u001b[0m \u001b[0mplt\u001b[0m\u001b[0;34m\u001b[0m\u001b[0;34m\u001b[0m\u001b[0m\n\u001b[1;32m      4\u001b[0m \u001b[0;32mfrom\u001b[0m \u001b[0msimulator_wrapper\u001b[0m \u001b[0;32mimport\u001b[0m \u001b[0mrun_simulator_day\u001b[0m\u001b[0;34m\u001b[0m\u001b[0;34m\u001b[0m\u001b[0m\n\u001b[0;32m----> 5\u001b[0;31m \u001b[0;32mfrom\u001b[0m \u001b[0magent\u001b[0m \u001b[0;32mimport\u001b[0m \u001b[0mAgent\u001b[0m\u001b[0;34m\u001b[0m\u001b[0;34m\u001b[0m\u001b[0m\n\u001b[0m\u001b[1;32m      6\u001b[0m \u001b[0;32mfrom\u001b[0m \u001b[0menvironment\u001b[0m \u001b[0;32mimport\u001b[0m \u001b[0mEnvironment\u001b[0m\u001b[0;34m\u001b[0m\u001b[0;34m\u001b[0m\u001b[0m\n\u001b[1;32m      7\u001b[0m \u001b[0;32mfrom\u001b[0m \u001b[0mexperience_buffer\u001b[0m \u001b[0;32mimport\u001b[0m \u001b[0mExperienceBuffer\u001b[0m\u001b[0;34m\u001b[0m\u001b[0;34m\u001b[0m\u001b[0m\n",
      "\u001b[0;32m~/PycharmProjects/GlucoseControl/glucose_control/reinforcement_learning/agent.py\u001b[0m in \u001b[0;36m<module>\u001b[0;34m\u001b[0m\n\u001b[1;32m      4\u001b[0m \u001b[0;32mimport\u001b[0m \u001b[0mpandas\u001b[0m \u001b[0;32mas\u001b[0m \u001b[0mpd\u001b[0m\u001b[0;34m\u001b[0m\u001b[0;34m\u001b[0m\u001b[0m\n\u001b[1;32m      5\u001b[0m \u001b[0;34m\u001b[0m\u001b[0m\n\u001b[0;32m----> 6\u001b[0;31m \u001b[0;32mfrom\u001b[0m \u001b[0mreinforcement_learning\u001b[0m\u001b[0;34m.\u001b[0m\u001b[0menvironment\u001b[0m \u001b[0;32mimport\u001b[0m \u001b[0mEnvironment\u001b[0m\u001b[0;34m\u001b[0m\u001b[0;34m\u001b[0m\u001b[0m\n\u001b[0m\u001b[1;32m      7\u001b[0m \u001b[0;32mfrom\u001b[0m \u001b[0mreinforcement_learning\u001b[0m\u001b[0;34m.\u001b[0m\u001b[0mexperience_buffer\u001b[0m \u001b[0;32mimport\u001b[0m \u001b[0mExperienceBuffer\u001b[0m\u001b[0;34m\u001b[0m\u001b[0;34m\u001b[0m\u001b[0m\n\u001b[1;32m      8\u001b[0m \u001b[0;32mfrom\u001b[0m \u001b[0mreinforcement_learning\u001b[0m\u001b[0;34m.\u001b[0m\u001b[0mpolicy\u001b[0m \u001b[0;32mimport\u001b[0m \u001b[0mDiscreteRandomPolicy\u001b[0m\u001b[0;34m,\u001b[0m \u001b[0mContinuousRandomPolicy\u001b[0m\u001b[0;34m,\u001b[0m\u001b[0;31m \u001b[0m\u001b[0;31m\\\u001b[0m\u001b[0;34m\u001b[0m\u001b[0;34m\u001b[0m\u001b[0m\n",
      "\u001b[0;31mModuleNotFoundError\u001b[0m: No module named 'reinforcement_learning'"
     ]
    }
   ],
   "source": [
    "import numpy as np\n",
    "import pandas as pd\n",
    "import matplotlib.pyplot as plt\n",
    "from simulator_wrapper import run_simulator_day\n",
    "from agent import Agent\n",
    "from environment import Environment\n",
    "from experience_buffer import ExperienceBuffer\n",
    "from policy import ContinuousRandomPolicy, TransformContinuousActions\n",
    "from utils import extract_patient_meal_carbs, extract_patient_meal_times"
   ]
  },
  {
   "cell_type": "code",
   "execution_count": 2,
   "metadata": {},
   "outputs": [],
   "source": [
    "NO_ACTION = np.zeros((2,3))\n",
    "df = pd.read_csv('../subject_profiles.csv')\n",
    "\n",
    "def plot_simulator(day:int=0, BM=NO_ACTION):\n",
    "    patient_data = df.iloc[day]\n",
    "    meal_times = extract_patient_meal_times(patient_data)\n",
    "    meal_carbs = extract_patient_meal_carbs(patient_data)\n",
    "    assert len(meal_carbs) == len(meal_times), \"Number of carb intakes and number of meals must be identical.\"\n",
    "    time, glucose, score = run_simulator_day(day, BM)\n",
    "    plt.plot(time, glucose, '--k')\n",
    "    plt.vlines(meal_times, 0, 1000, 'r')\n",
    "    plt.vlines(meal_times, 0, meal_carbs, 'k')\n",
    "    plt.vlines(BM[0], 0, 1000, 'b')\n",
    "    plt.hlines([70, 180], 0, 1440, 'g', alpha=0.5)\n",
    "    plt.xlim(0, 1440)\n",
    "    plt.ylim(0, 1000)\n",
    "    print(r'With score: %f3'%(score))"
   ]
  },
  {
   "cell_type": "markdown",
   "metadata": {},
   "source": [
    "## Performance of continuous random policy"
   ]
  },
  {
   "cell_type": "code",
   "execution_count": 5,
   "metadata": {},
   "outputs": [
    {
     "name": "stdout",
     "output_type": "stream",
     "text": [
      "With score: 33.4027783\n"
     ]
    },
    {
     "data": {
      "image/png": "[encoded data removed]",
      "text/plain": [
       "<Figure size 432x288 with 1 Axes>"
      ]
     },
     "metadata": {
      "needs_background": "light"
     },
     "output_type": "display_data"
    }
   ],
   "source": [
    "random_policy = ContinuousRandomPolicy()\n",
    "i = 12\n",
    "patient_data = df.iloc[i]\n",
    "env = Environment(patient_data)\n",
    "raw_actions = random_policy.act_episode(num_steps=env.num_meals + 1)\n",
    "random_BM = TransformContinuousActions().forward(\n",
    "    raw_actions=raw_actions, \n",
    "    time_stamps=env.time_stamps,\n",
    "    dose_range=env.dose_range\n",
    ")\n",
    "plot_simulator(day=i, BM=random_BM)"
   ]
  },
  {
   "cell_type": "code",
   "execution_count": 6,
   "metadata": {},
   "outputs": [],
   "source": [
    "experience_buffer = ExperienceBuffer(\n",
    "    max_memory_size= 500, \n",
    "    env_id_list=[12], \n",
    "    shape_dict=dict(\n",
    "        states=(1, np.float32),\n",
    "        next_states=(1, np.float32),\n",
    "        raw_actions=(2, np.float32),\n",
    "        BM=(2, np.float32),\n",
    "        rewards=(1, np.float32),\n",
    "        interval_size=(1, np.float32),\n",
    "        carbs=(1, np.float32),\n",
    "        termination_masks=(1, 'uint8')\n",
    "    )\n",
    ")\n",
    "agent = Agent(exploratory_policy=random_policy,\n",
    "              learnt_policy=random_policy,\n",
    "              global_buffer=experience_buffer, \n",
    "              fictional_buffer=experience_buffer)"
   ]
  },
  {
   "cell_type": "code",
   "execution_count": null,
   "metadata": {},
   "outputs": [],
   "source": []
  },
  {
   "cell_type": "code",
   "execution_count": null,
   "metadata": {},
   "outputs": [],
   "source": []
  }
 ],
 "metadata": {
  "kernelspec": {
   "display_name": "GlucoseControl_env",
   "language": "python",
   "name": "glucosecontrol_env"
  },
  "language_info": {
   "codemirror_mode": {
    "name": "ipython",
    "version": 3
   },
   "file_extension": ".py",
   "mimetype": "text/x-python",
   "name": "python",
   "nbconvert_exporter": "python",
   "pygments_lexer": "ipython3",
   "version": "3.7.3"
  },
  "pycharm": {
   "stem_cell": {
    "cell_type": "raw",
    "metadata": {
     "collapsed": false
    },
    "source": []
   }
  }
 },
 "nbformat": 4,
 "nbformat_minor": 4
}
